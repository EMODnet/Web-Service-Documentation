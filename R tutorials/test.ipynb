{
  "nbformat": 4,
  "nbformat_minor": 0,
  "metadata": {
    "kernelspec": {
      "display_name": "R",
      "language": "R",
      "name": "ir"
    },
    "language_info": {
      "codemirror_mode": "r",
      "file_extension": ".r",
      "mimetype": "text/x-r-source",
      "name": "R",
      "pygments_lexer": "r",
      "version": "3.3.1"
    },
    "colab": {
      "name": "R tutorial Working with EMODnet Data.ipynb",
      "provenance": [],
      "collapsed_sections": [],
      "toc_visible": true
    }
  },
  "cells": [
    {
      "cell_type": "markdown",
      "metadata": {
        "id": "lIyP9Z7XLAJI"
      },
      "source": [
        "# R tutorial: Working with EMODnet data\n",
        "#### Written by Pascal Derycke (EMODnet Secretariat) and Laurent Dubroca (Ifremer), edited by Tim Collart (EMODnet Secretariat) and Lennert Schepers (VLIZ)\n",
        "\n",
        "We will use following R packages which first need to be installed in your Google Collab instance. **This will take several minutes to complete.**"
      ]
    },
    {
      "cell_type": "code",
      "metadata": {
        "id": "FCY1JJMgUWHf",
        "outputId": "f9d8ab1a-703f-4576-9ac1-0d59c50df8bd",
        "colab": {
          "base_uri": "https://localhost:8080/",
          "height": 141
        }
      },
      "source": [
        "# install gdal\n",
        "system('sudo apt-get update')\n",
        "system('sudo apt-get install libgdal-dev libproj-dev')\n",
        "# install required R packages\n",
        "install.packages(c(\"rgdal\",\"raster\",\"mapdata\",\"maptools\",\"downloader\",\"directlabels\",\"rasterVis\",\"XML\",\"ncdf4\",\"kableExtra\",\"rjson\"), repos='http://cran.rstudio.com/')"
      ],
      "execution_count": null,
      "outputs": [
        {
          "output_type": "stream",
          "text": [
            "Installing packages into ‘/usr/local/lib/R/site-library’\n",
            "(as ‘lib’ is unspecified)\n",
            "\n",
            "also installing the dependencies ‘png’, ‘jpeg’, ‘sp’, ‘maps’, ‘quadprog’, ‘latticeExtra’, ‘hexbin’, ‘zoo’, ‘webshot’\n",
            "\n",
            "\n"
          ],
          "name": "stderr"
        }
      ]
    },
    {
      "cell_type": "markdown",
      "metadata": {
        "id": "qjD79tZC2Zcz"
      },
      "source": [
        "Now that they are installed, we need to load them into memory:"
      ]
    },
    {
      "cell_type": "code",
      "metadata": {
        "id": "P2oqeea-RDR4",
        "outputId": "c65166a8-1156-4ea4-abc0-f2ef051e0c15",
        "colab": {
          "base_uri": "https://localhost:8080/",
          "height": 1000
        }
      },
      "source": [
        "# load dependencies\n",
        "## geospatial data handling\n",
        "library(rgdal)\n",
        "library(raster)\n",
        "library(sp)\n",
        "library(mapdata)\n",
        "library(maptools)\n",
        "library(ncdf4)\n",
        "## general data handling\n",
        "library(XML)\n",
        "library(dplyr)\n",
        "library(tidyr)\n",
        "library(reshape2)\n",
        "library(downloader)\n",
        "## plotting\n",
        "library(directlabels)\n",
        "library(rasterVis)\n",
        "library(ggplot2)\n",
        "## for display reasons\n",
        "library(knitr)\n",
        "library(kableExtra)\n",
        "library(IRdisplay)\n",
        "library(repr)"
      ],
      "execution_count": null,
      "outputs": [
        {
          "output_type": "stream",
          "text": [
            "Loading required package: sp\n",
            "\n",
            "rgdal: version: 1.4-8, (SVN revision 845)\n",
            " Geospatial Data Abstraction Library extensions to R successfully loaded\n",
            " Loaded GDAL runtime: GDAL 2.2.3, released 2017/11/20\n",
            " Path to GDAL shared files: /usr/share/gdal/2.2\n",
            " GDAL binary built with GEOS: TRUE \n",
            " Loaded PROJ.4 runtime: Rel. 4.9.3, 15 August 2016, [PJ_VERSION: 493]\n",
            " Path to PROJ.4 shared files: (autodetected)\n",
            " Linking to sp version: 1.3-2 \n",
            "\n",
            "Loading required package: maps\n",
            "\n",
            "Checking rgeos availability: FALSE\n",
            " \tNote: when rgeos is not available, polygon geometry \tcomputations in maptools depend on gpclib,\n",
            " \twhich has a restricted licence. It is disabled by default;\n",
            " \tto enable gpclib, type gpclibPermit()\n",
            "\n",
            "\n",
            "Attaching package: ‘dplyr’\n",
            "\n",
            "\n",
            "The following objects are masked from ‘package:raster’:\n",
            "\n",
            "    intersect, select, union\n",
            "\n",
            "\n",
            "The following objects are masked from ‘package:stats’:\n",
            "\n",
            "    filter, lag\n",
            "\n",
            "\n",
            "The following objects are masked from ‘package:base’:\n",
            "\n",
            "    intersect, setdiff, setequal, union\n",
            "\n",
            "\n",
            "\n",
            "Attaching package: ‘tidyr’\n",
            "\n",
            "\n",
            "The following object is masked from ‘package:raster’:\n",
            "\n",
            "    extract\n",
            "\n",
            "\n",
            "\n",
            "Attaching package: ‘reshape2’\n",
            "\n",
            "\n",
            "The following object is masked from ‘package:tidyr’:\n",
            "\n",
            "    smiths\n",
            "\n",
            "\n",
            "Loading required package: lattice\n",
            "\n",
            "Loading required package: latticeExtra\n",
            "\n",
            "\n",
            "Attaching package: ‘ggplot2’\n",
            "\n",
            "\n",
            "The following object is masked from ‘package:latticeExtra’:\n",
            "\n",
            "    layer\n",
            "\n",
            "\n",
            "\n",
            "Attaching package: ‘kableExtra’\n",
            "\n",
            "\n",
            "The following object is masked from ‘package:dplyr’:\n",
            "\n",
            "    group_rows\n",
            "\n",
            "\n"
          ],
          "name": "stderr"
        }
      ]
    },
    {
      "cell_type": "code",
      "metadata": {
        "id": "S-1g67q0HPyV"
      },
      "source": [
        ""
      ],
      "execution_count": null,
      "outputs": []
    }
  ]
}