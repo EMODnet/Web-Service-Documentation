{
 "cells": [
  {
   "cell_type": "markdown",
   "metadata": {
    "colab_type": "text",
    "id": "lIyP9Z7XLAJI"
   },
   "source": [
    "# R tutorial: Working with EMODnet OGC Web Services\n",
    "#### Written by Pascal Derycke (EMODnet Secretariat) and Laurent Dubroca (Ifremer), edited by Tim Collart (EMODnet Secretariat) and Lennert Schepers (VLIZ)"
   ]
  },
  {
   "cell_type": "markdown",
   "metadata": {
    "colab_type": "text",
    "id": "wPvL7oBHxQnO"
   },
   "source": [
    "Instead of downloading EMODnet data to your local machine before using it for your application,  you can also access data directly from the web into your data analysis environment. In this tutorial, we will use the [statistical programming language R](https://www.r-project.org/) to access EMODnet map images, data and metadata.\n",
    "\n",
    "The EMODnet data portals allow web acces to map images, data and metadata through [Open Geospatial Consortium Web Services](https://www.opengeospatial.org/standards/owc). This is a set of standards which allow to transfer geospatial data and metadata over the web. We will show following services available from EMODnet:\n",
    "\n",
    "* [Web Map Service (WMS)](https://www.opengeospatial.org/standards/wms): Allows you to download geo-referenced map images\n",
    "\n",
    "* [Web Feature Service (WFS)](https://www.opengeospatial.org/standards/wfs): Allows you to download geospatial vector data. There is also an R client under development: [EMODnetWFS](https://emodnet.github.io/EMODnetWFS/)\n",
    "\n",
    "* [Web Coverage Service (WCS)](https://www.opengeospatial.org/standards/wcs): Allows you to download geospatial raster data\n",
    "\n",
    "* [Catalogue Service for the Web (CSW)](https://www.opengeospatial.org/standards/cat): Allows you to search the catalogue of metadata to find the dataset you are looking for.\n",
    "\n",
    "The full list of URL's you need to access the [web service doucmentation repository on GitHub](https://github.com/EMODnet/Web-Service-Documentation). The exercises below cover some specific examples of how to acces and search for the data you require for your applications. You are free to use and modify this code in your own work."
   ]
  },
  {
   "cell_type": "markdown",
   "metadata": {},
   "source": [
    "The tutorial exists of two parts:\n",
    "* [Part 1](./EMODnet_web_services_in_R_part1.ipynb) covers interacting with web services from EMODnet Bathymetry, Human Activities, Physics, Seabed Habitats and Geology.\n",
    "* [Part 2](./EMODnet_web_services_in_R_part2.ipynb) covers interacting with web services from EMODnet Biology and the EMODnet Central Portal catalogue service."
   ]
  },
  {
   "cell_type": "markdown",
   "metadata": {},
   "source": [
    "### [>> To part 1 of the tutorial](./EMODnet_web_services_in_R_part1.ipynb)"
   ]
  },
  {
   "cell_type": "markdown",
   "metadata": {},
   "source": [
    "-----------------------------------------------------------------------------------------------------------\n",
    "<center> Provided by EMODnet. See our <a href=https://emodnet.ec.europa.eu/en/terms-use> terms of use </a></center>\n",
    "<center><a href=\"https://emodnet.ec.europa.eu/\"><img style=\"float: None\" style=\"border-width:0\" src=\"https://emodnet.ec.europa.eu/sites/emodnet.ec.europa.eu/files/public/logo_2x_1.png\" /></a>\n",
    "</center>"
   ]
  }
 ],
 "metadata": {
  "colab": {
   "collapsed_sections": [],
   "name": "R tutorial Working with EMODnet Data.ipynb",
   "provenance": [
    {
     "file_id": "https://github.com/IRkernel/IRkernel/blob/master/example-notebooks/Demo.ipynb",
     "timestamp": 1571306633423
    }
   ],
   "toc_visible": true
  },
  "kernelspec": {
   "display_name": "R",
   "language": "R",
   "name": "ir"
  },
  "language_info": {
   "codemirror_mode": "r",
   "file_extension": ".r",
   "mimetype": "text/x-r-source",
   "name": "R",
   "pygments_lexer": "r",
   "version": "3.6.1"
  }
 },
 "nbformat": 4,
 "nbformat_minor": 4
}
